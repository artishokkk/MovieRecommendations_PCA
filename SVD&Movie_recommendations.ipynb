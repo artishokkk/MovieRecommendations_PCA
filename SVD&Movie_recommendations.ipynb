{
 "cells": [
  {
   "cell_type": "code",
   "execution_count": 104,
   "metadata": {
    "id": "CaCFAuK-UVIt"
   },
   "outputs": [],
   "source": [
    "import numpy as np\n",
    "import matplotlib.pyplot as plt\n",
    "import pandas as pd\n",
    "from scipy.linalg import svd\n",
    "from math import *"
   ]
  },
  {
   "cell_type": "markdown",
   "metadata": {
    "id": "6vOSnWWIUmnP"
   },
   "source": [
    "# Сингулярное разложение\n",
    "\n",
    "В этом ДЗ есть четыре варианта заданий, с разной разбалловкой. Вы можете сделать одно из них и получить соответствующее количество баллов (из 10):  \n",
    "\n",
    "- 4 - пакетная функция SVD с обычной матрицей\n",
    "- 7 - собственное SVD с обычной матрицей\n",
    "- 8 - SVD с реальным датасетом, пакетная реализация\n",
    "- 10 - реальный датасет, собственная реализация"
   ]
  },
  {
   "cell_type": "markdown",
   "metadata": {
    "id": "7_iLban-nPKq"
   },
   "source": [
    "## (4-7) Типовая матрица\n",
    "\n",
    "Постройте сингулярное разложение для матрицы A:\n",
    "\n",
    "$$A=\\left(\n",
    "\\begin{array}{rrr}\n",
    "1 & -1 & -2 \\\\\n",
    "-7/3 &  1/3 & 2/3\\\\\n",
    "1/3 & -7/3 & -2/3 \\\\\n",
    "-5/3 & 5/3 & -2/3\n",
    "\\end{array}\n",
    "\\right) \\, $$\n",
    "\n",
    "Составьте матрицы $U$, $\\Sigma$, $V$ (в неусеченном виде)\n",
    "\n",
    "При написании собственной реализации можно использовать *np.linalg.solve* и *np.linalg.inv*"
   ]
  },
  {
   "cell_type": "code",
   "execution_count": 98,
   "metadata": {
    "colab": {
     "base_uri": "https://localhost:8080/"
    },
    "id": "HOgqr7V2Ulzb",
    "outputId": "fa262bf3-77f4-4af7-e5c2-fd7860a66884",
    "scrolled": true
   },
   "outputs": [
    {
     "name": "stdout",
     "output_type": "stream",
     "text": [
      "[[ 1.         -1.         -2.        ]\n",
      " [-2.33333333  0.33333333  0.66666667]\n",
      " [ 0.33333333 -2.33333333 -0.66666667]\n",
      " [-1.66666667  1.66666667 -0.66666667]]\n"
     ]
    }
   ],
   "source": [
    "A = np.array([[1, -1, -2],\n",
    "              [-7/3, 1/3, 2/3],\n",
    "              [1/3, -7/3, -2/3],\n",
    "              [-5/3, 5/3, -2/3]])\n",
    "\n",
    "print(A)"
   ]
  },
  {
   "cell_type": "code",
   "execution_count": 185,
   "metadata": {
    "id": "fLP_iZG-uP09",
    "scrolled": true
   },
   "outputs": [],
   "source": [
    "### svd() ###\n",
    "\n",
    "def do_svd(mat):\n",
    "    U, Sigma, VT = svd(mat)\n",
    "    U = pd.DataFrame(U)\n",
    "    VT = pd.DataFrame(VT)\n",
    "    Sigma = pd.DataFrame(Sigma)\n",
    "    return U, Sigma, VT"
   ]
  },
  {
   "cell_type": "code",
   "execution_count": 186,
   "metadata": {},
   "outputs": [
    {
     "name": "stdout",
     "output_type": "stream",
     "text": [
      "U:\n",
      "     0         1         2    3\n",
      "0 -0.5  0.223607  0.670820 -0.5\n",
      "1  0.5  0.670820 -0.223607 -0.5\n",
      "2 -0.5  0.670820 -0.223607  0.5\n",
      "3  0.5  0.223607  0.670820  0.5 \n",
      "\n",
      "\n",
      "Sigmas:\n",
      "[[4. 2. 2.]] \n",
      "\n",
      "\n",
      "V^T:\n",
      "           0         1         2\n",
      "0 -0.666667  0.666667  0.333333\n",
      "1 -0.745356 -0.596285 -0.298142\n",
      "2 -0.000000  0.447214 -0.894427 \n",
      "\n",
      "[[4. 0. 0.]\n",
      " [0. 2. 0.]\n",
      " [0. 0. 2.]\n",
      " [0. 0. 0.]] \n",
      "\n",
      "Check tre Result of (U * Sigma * VT) :\n",
      "          0         1         2\n",
      "0  1.000000 -1.000000 -2.000000\n",
      "1 -2.333333  0.333333  0.666667\n",
      "2  0.333333 -2.333333 -0.666667\n",
      "3 -1.666667  1.666667 -0.666667\n"
     ]
    }
   ],
   "source": [
    "U = do_svd(A)[0]\n",
    "\n",
    "Sigmas = do_svd(A)[1].to_numpy().T\n",
    "\n",
    "VT = do_svd(A)[2]\n",
    "\n",
    "print('U:')\n",
    "print(U,'\\n\\n')\n",
    "print('Sigmas:')\n",
    "print(Sigmas,'\\n\\n')\n",
    "print('V^T:\\n',VT,'\\n')\n",
    "\n",
    "\n",
    "Sigma = np.eye(4,3) * Sigmas\n",
    "\n",
    "print(Sigma,'\\n')\n",
    "\n",
    "print('Check tre Result of (U * Sigma * VT) :')\n",
    "print(U @ Sigma @ VT)"
   ]
  },
  {
   "cell_type": "markdown",
   "metadata": {
    "id": "mCfNQvO3uWq0"
   },
   "source": [
    "## (8-10) Работа с датасетом\n",
    "\n",
    "Будем использовать [MovieLens 100k](http://grouplens.org/datasets/movielens/) (*MovieLens Latest Datasets (small)*, ratings.csv)\n",
    "\n",
    "Вам нужно:\n",
    "- скачать датасет\n",
    "- предобработать данные: составить список уникальных пользователей и фильмов\n",
    "- составить матрицу **users - movies** (функция *create_utility_matrix*); значения матрицы - Nan, если нет информации об оценке пользователем фильма, или число, если оценка есть\n",
    "- составить сингулярное разложение (используя пакетную функцию или собственную реализацию)\n",
    "- выбрать одного пользователя (один фильм) и найти максимально похожих на него\n",
    "- вывести рекомендации для пользователя\n"
   ]
  },
  {
   "cell_type": "code",
   "execution_count": 176,
   "metadata": {
    "id": "bzfY5CJZ3M-e",
    "scrolled": true
   },
   "outputs": [
    {
     "name": "stdout",
     "output_type": "stream",
     "text": [
      "   userId  movieId  rating  timestamp\n",
      "0       1        1     4.0  964982703\n",
      "1       1        3     4.0  964981247\n",
      "2       1        6     4.0  964982224\n",
      "3       1       47     5.0  964983815\n",
      "4       1       50     5.0  964982931\n",
      "\n",
      "[ 1  2  3  4  5  6  7  8  9 10]\n",
      "\n",
      "[     1      3      6 ... 160836 163937 163981]\n",
      "9724\n"
     ]
    }
   ],
   "source": [
    "\n",
    "data = pd.read_csv(\"ratings.csv\")\n",
    "print(data.head())\n",
    "data['userId'] = data['userId'].astype('str')\n",
    "data['movieId'] = data['movieId'].astype('str')\n",
    "data['ratingId'] = data['rating'].astype('float')\n",
    "\n",
    "\n",
    "\n",
    "# list of all users\n",
    "users = data['userId'].unique()\n",
    "\n",
    "\n",
    "# list of all movies\n",
    "movies = data['movieId'].unique()\n",
    "\n",
    "movies= movies.astype('int')\n",
    "users = users.astype('int')\n",
    "print()\n",
    "print(users[:10])\n",
    "print()\n",
    "print(movies)\n",
    "print(len(movies))"
   ]
  },
  {
   "cell_type": "code",
   "execution_count": 197,
   "metadata": {},
   "outputs": [],
   "source": [
    "def create_utility_matrix(data, formatizer = {'user':0, 'item': 1, 'value': 2}):\n",
    "    \"\"\"\n",
    "        :param data:      Array-like, 2D, nx3\n",
    "        :param formatizer:pass the formatizer\n",
    "        :return:          utility matrix (n x m), n=users, m=movies\n",
    "    \"\"\"\n",
    "\n",
    "    itemField = formatizer['item']\n",
    "    userField = formatizer['user']\n",
    "    valueField = formatizer['value']\n",
    "\n",
    "    userList = data.iloc[:,userField].tolist()  #iloc - вытаскивает все значений значения из столбца\n",
    "    itemList = data.iloc[:,itemField].tolist()\n",
    "    valueList = data.iloc[:,valueField].tolist()\n",
    "\n",
    "    users = data.iloc[:,userField].unique().tolist()   # уникальные пользователи \n",
    "    items = data.iloc[:,itemField].unique().tolist() # уникальные значения\n",
    "\n",
    "    users_index =  {users[i]: i for i in range(len(users))}\n",
    "\n",
    "    pd_dict = {item: [np.nan for i in range(len(users))] for item in items}\n",
    "    # data = data.drop(index=data.index[0], axis=0, inplace=True)\n",
    "    for i in range(len(data)):\n",
    "         item = itemList[i]\n",
    "         user = userList[i]\n",
    "         value = valueList[i]\n",
    "         pd_dict[item][users_index[user]] = value\n",
    "    #\n",
    "    X = pd.DataFrame(pd_dict)\n",
    "    X.index = users\n",
    "\n",
    "    itemcols = list(X.columns)\n",
    "    items_index = {itemcols[i]: i for i in range(len(itemcols))}\n",
    "    #\n",
    "    # # users_index gives us a mapping of user_id to index of user\n",
    "    # # items_index provides the same for items\n",
    "    #\n",
    "    X = X.replace(np.nan, 0)\n",
    "    return X, users_index, items_index\n",
    "\n",
    "user_item_array, users_index, items_index = create_utility_matrix(data)\n",
    "user_item_matrix = np.matrix(user_item_array)\n"
   ]
  },
  {
   "cell_type": "code",
   "execution_count": 198,
   "metadata": {},
   "outputs": [
    {
     "data": {
      "text/plain": [
       "matrix([[0. , 0. , 4. , 0. , 0. , 0. , 0. , 0. , 0. ],\n",
       "        [0. , 0. , 0. , 0. , 0. , 0. , 0. , 0. , 0. ],\n",
       "        [0. , 3.5, 3. , 3.5, 0. , 0. , 3.5, 0. , 0. ],\n",
       "        [0. , 0. , 0. , 3.5, 0. , 0. , 0. , 0. , 0. ],\n",
       "        [0. , 0. , 0. , 0. , 0. , 0. , 5. , 0. , 0. ]])"
      ]
     },
     "execution_count": 198,
     "metadata": {},
     "output_type": "execute_result"
    }
   ],
   "source": [
    "user_item_matrix[25:30,1:10]"
   ]
  },
  {
   "cell_type": "code",
   "execution_count": 199,
   "metadata": {},
   "outputs": [],
   "source": [
    "k = 10 # точность\n",
    "U = do_svd(user_item_matrix)[0]  \n",
    "VT = do_svd(user_item_matrix)[2] \n",
    "\n"
   ]
  },
  {
   "cell_type": "code",
   "execution_count": 208,
   "metadata": {},
   "outputs": [
    {
     "name": "stdout",
     "output_type": "stream",
     "text": [
      "Индексы фильмов, похожие на 10 [17, 20, 171, 0, 402]\n",
      "Индекса фильмов, рекомендованные для 10 пользователя [   5   13   15   20   27   28   34   42   73   75   99  101  102  108\n",
      "  162  164  179  184  220  232  267  378  446  463  478  486  525  618\n",
      "  621  642  739  740  752  753  755  759  765  768  770  778  797  806\n",
      "  809  823  824  885  892  898  899  977  987  991 1002 1012 1015 1022\n",
      " 1027 1028 1048 1096 1166 1177 1178 1198 1208 1209 1249 1263 1413 1448\n",
      " 1484 1574 1683 1774 1796 1822 1831 1875 1891 1896 1898 1904 1908 2284\n",
      " 2310 2320 2397 2419 3141 3188 3327 3355 3646 3647 4510 4908 5913]\n"
     ]
    }
   ],
   "source": [
    "# по похожести фильмов\n",
    "\n",
    "def recommend_movie_item(liked_movie, VT, output_num=5):\n",
    "    global rec\n",
    "    rec = []\n",
    "    for item in range(len(VT.columns)):\n",
    "        if item != liked_movie:\n",
    "            rec.append([item,np.dot(VT[item],VT[liked_movie])]) # перемножаем векторы фильмов\n",
    "    final_rec = [i[0] for i in sorted(rec, key=lambda x: x[1],reverse=True)] # сортируем в порядке убывания скалярных произведений\n",
    "    return final_rec[:output_num]\n",
    "\n",
    "                     \n",
    "                     # по похожести пользователей\n",
    "\n",
    "def recommend_movie_user(target_user, U, output_num=100):\n",
    "    global rec\n",
    "    users_similarity = []\n",
    "    for user in range(U.shape[0]):\n",
    "        if user != target_user:\n",
    "            users_similarity.append([user, np.dot(U.iloc[user], U.iloc[target_user])])\n",
    "    sorted_users = [i[0] for i in sorted(users_similarity, key=lambda x: x[1],reverse=True)]\n",
    "    all_movies = np.array(user_item_array.iloc[sorted_users[0]])\n",
    "    rec_movies = all_movies.nonzero()\n",
    "    return rec_movies[0][:output_num]\n",
    "                     \n",
    "                     \n",
    "print(f'Индексы фильмов, похожие на 10 {recommend_movie_item(10, VT)}')\n",
    "print(f'Индекса фильмов, рекомендованные для 10 пользователя {recommend_movie_user(10, U)}')"
   ]
  }
 ],
 "metadata": {
  "colab": {
   "provenance": []
  },
  "kernelspec": {
   "display_name": "Python 3 (ipykernel)",
   "language": "python",
   "name": "python3"
  },
  "language_info": {
   "codemirror_mode": {
    "name": "ipython",
    "version": 3
   },
   "file_extension": ".py",
   "mimetype": "text/x-python",
   "name": "python",
   "nbconvert_exporter": "python",
   "pygments_lexer": "ipython3",
   "version": "3.11.5"
  }
 },
 "nbformat": 4,
 "nbformat_minor": 1
}
